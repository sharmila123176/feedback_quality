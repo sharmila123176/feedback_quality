{
 "cells": [
  {
   "cell_type": "code",
   "execution_count": 1,
   "id": "3089762d",
   "metadata": {},
   "outputs": [
    {
     "name": "stdout",
     "output_type": "stream",
     "text": [
      " Evaluate Feedback Quality for Soft Skills\n",
      "\n",
      "Rate the following criteria from 1 (Poor) to 4 (Excellent):\n",
      "\n",
      "❗ Invalid input. Enter a numeric value.\n",
      "❗ Invalid input. Enter a numeric value.\n",
      "\n",
      " Evaluation Summary:\n",
      "- Clarity: 1/4\n",
      "- Specificity: 2/4\n",
      "- Constructiveness: 4/4\n",
      "- Balanced Tone: 4/4\n",
      "- Actionability: 1/4\n",
      "\n",
      " Average Feedback Quality Score: 2.40/4\n",
      " Feedback Quality: Needs Improvement\n"
     ]
    }
   ],
   "source": [
    "def evaluate_feedback_quality():\n",
    "    print(\" Evaluate Feedback Quality for Soft Skills\\n\")\n",
    "    \n",
    "    print(\"Rate the following criteria from 1 (Poor) to 4 (Excellent):\\n\")\n",
    "\n",
    "    criteria = {\n",
    "        \"Clarity (Is the feedback clear and understandable?)\": 0,\n",
    "        \"Specificity (Does it include concrete examples?)\": 0,\n",
    "        \"Constructiveness (Does it give helpful suggestions?)\": 0,\n",
    "        \"Balanced Tone (Does it include both positives and areas to improve?)\": 0,\n",
    "        \"Actionability (Are the suggestions practical and doable?)\": 0\n",
    "    }\n",
    "\n",
    "    total_score = 0\n",
    "\n",
    "    for question in criteria:\n",
    "        while True:\n",
    "            try:\n",
    "                score = int(input(f\"{question} [1-4]: \"))\n",
    "                if 1 <= score <= 4:\n",
    "                    criteria[question] = score\n",
    "                    total_score += score\n",
    "                    break\n",
    "                else:\n",
    "                    print(\"❗ Please enter a number between 1 and 4.\")\n",
    "            except ValueError:\n",
    "                print(\"❗ Invalid input. Enter a numeric value.\")\n",
    "\n",
    "    print(\"\\n Evaluation Summary:\")\n",
    "    for criterion, score in criteria.items():\n",
    "        print(f\"- {criterion.split('(')[0].strip()}: {score}/4\")\n",
    "\n",
    "    average_score = total_score / len(criteria)\n",
    "    print(f\"\\n Average Feedback Quality Score: {average_score:.2f}/4\")\n",
    "\n",
    "    if average_score >= 3.5:\n",
    "        print(\" Feedback Quality: Excellent\")\n",
    "    elif average_score >= 2.5:\n",
    "        print(\" Feedback Quality: Good\")\n",
    "    elif average_score >= 1.5:\n",
    "        print(\" Feedback Quality: Needs Improvement\")\n",
    "    else:\n",
    "        print(\" Feedback Quality: Poor\")\n",
    "\n",
    "# Run the program\n",
    "if __name__ == \"__main__\":\n",
    "    evaluate_feedback_quality()\n"
   ]
  },
  {
   "cell_type": "code",
   "execution_count": null,
   "id": "ff0d76c2",
   "metadata": {},
   "outputs": [],
   "source": []
  }
 ],
 "metadata": {
  "kernelspec": {
   "display_name": "base",
   "language": "python",
   "name": "python3"
  },
  "language_info": {
   "codemirror_mode": {
    "name": "ipython",
    "version": 3
   },
   "file_extension": ".py",
   "mimetype": "text/x-python",
   "name": "python",
   "nbconvert_exporter": "python",
   "pygments_lexer": "ipython3",
   "version": "3.9.13"
  }
 },
 "nbformat": 4,
 "nbformat_minor": 5
}
